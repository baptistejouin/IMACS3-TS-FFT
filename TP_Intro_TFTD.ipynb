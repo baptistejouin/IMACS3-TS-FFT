{
 "cells": [
  {
   "cell_type": "code",
   "execution_count": 2,
   "metadata": {},
   "outputs": [],
   "source": [
    "import numpy as np\n",
    "import matplotlib.pyplot as plt ### ou encore from matplotlib import pyplot as plt\n",
    "### permet de faire des zoom, des recadrages grâce à la souris : \n",
    "%matplotlib notebook\n",
    "%matplotlib inline\n",
    "\n",
    "\n",
    "\n",
    "import importlib\n",
    "###  les fonctions de codage/décodage WAV : \n",
    "from scipy.io import wavfile as io\n",
    "from IPython.display import Audio\n",
    "\n",
    "\n",
    "from IPython.display import display, Math, Latex\n",
    "from scipy.fftpack import fft, fftshift\n"
   ]
  },
  {
   "cell_type": "code",
   "execution_count": 10,
   "metadata": {},
   "outputs": [
    {
     "name": "stdout",
     "output_type": "stream",
     "text": [
      "fréquence échantillonnage (Hz)= 44100\n",
      "(1173276, 2)\n",
      "44100\n"
     ]
    }
   ],
   "source": [
    "Fe, data = io.read('Domine_quando_veneris_debut.wav')\n",
    "print('fréquence échantillonnage (Hz)= '+str(Fe))\n",
    "\n",
    "\n",
    "\n",
    "print(np.shape(data))\n",
    "x = data[:,0]+data[:,1]  ### conversion en mono\n",
    "\n",
    "x=x/32000   ### sinon valeurs du signal trop grandes\n",
    "\n",
    "N=len(x)\n",
    "\n",
    "begin_echan_signal1=np.round(1.5*Fe)-1\n",
    "end_echan_signal1=np.round(2.5*Fe)-1\n",
    "begin_echan_signal2=np.round(5.5*Fe)-1\n",
    "end_echan_signal2=np.round(6.5*Fe)-1\n",
    "\n",
    "N1= np.arange(begin_echan_signal1,end_echan_signal1)#  len = 44100\n",
    "N2= np.arange(begin_echan_signal2,end_echan_signal2) # len =  44100\n",
    "\n",
    "print(len(N1))\n",
    "\n",
    "Puissance = np.sum(x**15)/N\n",
    "\n",
    "\n",
    "\n",
    "\n",
    "\n",
    "\n",
    "##### Extraction de deux sous-signaux\n",
    "\n",
    "\n",
    "\n",
    "# Audio(signal1, rate=Fe)\n",
    "# Audio(signal2, rate=Fe)\n"
   ]
  }
 ],
 "metadata": {
  "kernelspec": {
   "display_name": "Python 3 (ipykernel)",
   "language": "python",
   "name": "python3"
  },
  "language_info": {
   "codemirror_mode": {
    "name": "ipython",
    "version": 3
   },
   "file_extension": ".py",
   "mimetype": "text/x-python",
   "name": "python",
   "nbconvert_exporter": "python",
   "pygments_lexer": "ipython3",
   "version": "3.11.2"
  }
 },
 "nbformat": 4,
 "nbformat_minor": 4
}
